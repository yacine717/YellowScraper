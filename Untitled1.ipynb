{
 "cells": [
  {
   "cell_type": "code",
   "execution_count": 8,
   "id": "fa956327-9b00-4c85-b876-27cfbe1731b0",
   "metadata": {},
   "outputs": [
    {
     "name": "stdout",
     "output_type": "stream",
     "text": [
      "its in\n",
      "{'/los-angeles-ca/retaurants': False, '/tijuana/restaurants': True, 'sinaloa': False}\n"
     ]
    },
    {
     "ename": "KeyError",
     "evalue": "0",
     "output_type": "error",
     "traceback": [
      "\u001b[0;31m---------------------------------------------------------------------------\u001b[0m",
      "\u001b[0;31mKeyError\u001b[0m                                  Traceback (most recent call last)",
      "Cell \u001b[0;32mIn[8], line 16\u001b[0m\n\u001b[1;32m     14\u001b[0m     cities\u001b[38;5;241m.\u001b[39mupdate({new_city: \u001b[38;5;28;01mFalse\u001b[39;00m})\n\u001b[1;32m     15\u001b[0m \u001b[38;5;28mprint\u001b[39m(cities)\n\u001b[0;32m---> 16\u001b[0m \u001b[38;5;28mprint\u001b[39m(\u001b[43mcities\u001b[49m\u001b[43m[\u001b[49m\u001b[38;5;241;43m0\u001b[39;49m\u001b[43m]\u001b[49m)\n",
      "\u001b[0;31mKeyError\u001b[0m: 0"
     ]
    }
   ],
   "source": [
    "from parameters import config\n",
    "from scraper import fetch_page\n",
    "from bs4 import BeautifulSoup\n",
    "from helpers import find_nearby_cities\n",
    "index = 0\n",
    "cities = config['cities']\n",
    "number_of_pages = config['number_of_pages']\n",
    "new_city= 'sinaloa'\n",
    "\n",
    "\n",
    "if new_city in cities:\n",
    "    print('its in')\n",
    "else:\n",
    "    cities.update({new_city: False})\n",
    "print(cities)\n",
    "print(cities[0])"
   ]
  }
 ],
 "metadata": {
  "kernelspec": {
   "display_name": "Python 3 (ipykernel)",
   "language": "python",
   "name": "python3"
  },
  "language_info": {
   "codemirror_mode": {
    "name": "ipython",
    "version": 3
   },
   "file_extension": ".py",
   "mimetype": "text/x-python",
   "name": "python",
   "nbconvert_exporter": "python",
   "pygments_lexer": "ipython3",
   "version": "3.10.9"
  }
 },
 "nbformat": 4,
 "nbformat_minor": 5
}
